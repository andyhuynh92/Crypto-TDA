{
 "cells": [
  {
   "cell_type": "code",
   "execution_count": 1,
   "id": "4d288509-9810-49e3-99d0-5349e763c344",
   "metadata": {},
   "outputs": [],
   "source": [
    "import numpy as np\n",
    "import pandas as pd\n",
    "import gudhi as gd\n",
    "from cleaner import cleaner\n",
    "import datetime\n",
    "from halvingdates import *"
   ]
  },
  {
   "cell_type": "code",
   "execution_count": 2,
   "id": "c11dc2ec-7b10-4fa4-bcfb-3f9ae167fda4",
   "metadata": {},
   "outputs": [],
   "source": [
    "df = pd.read_csv('data/btcall.csv', index_col='Date', parse_dates=True,).sort_index()\n",
    "df = cleaner(df).astype('float')"
   ]
  },
  {
   "cell_type": "code",
   "execution_count": 3,
   "id": "384c61f6-2acb-46af-ac9a-0a1f80e926a7",
   "metadata": {},
   "outputs": [
    {
     "data": {
      "text/html": [
       "<div>\n",
       "<style scoped>\n",
       "    .dataframe tbody tr th:only-of-type {\n",
       "        vertical-align: middle;\n",
       "    }\n",
       "\n",
       "    .dataframe tbody tr th {\n",
       "        vertical-align: top;\n",
       "    }\n",
       "\n",
       "    .dataframe thead th {\n",
       "        text-align: right;\n",
       "    }\n",
       "</style>\n",
       "<table border=\"1\" class=\"dataframe\">\n",
       "  <thead>\n",
       "    <tr style=\"text-align: right;\">\n",
       "      <th></th>\n",
       "      <th>Price</th>\n",
       "      <th>Open</th>\n",
       "      <th>High</th>\n",
       "      <th>Low</th>\n",
       "      <th>Vol.</th>\n",
       "      <th>Change %</th>\n",
       "    </tr>\n",
       "    <tr>\n",
       "      <th>Date</th>\n",
       "      <th></th>\n",
       "      <th></th>\n",
       "      <th></th>\n",
       "      <th></th>\n",
       "      <th></th>\n",
       "      <th></th>\n",
       "    </tr>\n",
       "  </thead>\n",
       "  <tbody>\n",
       "    <tr>\n",
       "      <th>2010-07-18</th>\n",
       "      <td>0.1</td>\n",
       "      <td>0.0</td>\n",
       "      <td>0.1</td>\n",
       "      <td>0.1</td>\n",
       "      <td>80.0</td>\n",
       "      <td>0.00</td>\n",
       "    </tr>\n",
       "    <tr>\n",
       "      <th>2010-07-19</th>\n",
       "      <td>0.1</td>\n",
       "      <td>0.1</td>\n",
       "      <td>0.1</td>\n",
       "      <td>0.1</td>\n",
       "      <td>570.0</td>\n",
       "      <td>0.00</td>\n",
       "    </tr>\n",
       "    <tr>\n",
       "      <th>2010-07-20</th>\n",
       "      <td>0.1</td>\n",
       "      <td>0.1</td>\n",
       "      <td>0.1</td>\n",
       "      <td>0.1</td>\n",
       "      <td>260.0</td>\n",
       "      <td>0.00</td>\n",
       "    </tr>\n",
       "    <tr>\n",
       "      <th>2010-07-21</th>\n",
       "      <td>0.1</td>\n",
       "      <td>0.1</td>\n",
       "      <td>0.1</td>\n",
       "      <td>0.1</td>\n",
       "      <td>580.0</td>\n",
       "      <td>0.00</td>\n",
       "    </tr>\n",
       "    <tr>\n",
       "      <th>2010-07-22</th>\n",
       "      <td>0.1</td>\n",
       "      <td>0.1</td>\n",
       "      <td>0.1</td>\n",
       "      <td>0.1</td>\n",
       "      <td>2160.0</td>\n",
       "      <td>0.00</td>\n",
       "    </tr>\n",
       "    <tr>\n",
       "      <th>...</th>\n",
       "      <td>...</td>\n",
       "      <td>...</td>\n",
       "      <td>...</td>\n",
       "      <td>...</td>\n",
       "      <td>...</td>\n",
       "      <td>...</td>\n",
       "    </tr>\n",
       "    <tr>\n",
       "      <th>2022-06-23</th>\n",
       "      <td>21100.7</td>\n",
       "      <td>19967.3</td>\n",
       "      <td>21189.8</td>\n",
       "      <td>19907.5</td>\n",
       "      <td>110700.0</td>\n",
       "      <td>5.68</td>\n",
       "    </tr>\n",
       "    <tr>\n",
       "      <th>2022-06-24</th>\n",
       "      <td>21226.9</td>\n",
       "      <td>21100.9</td>\n",
       "      <td>21488.7</td>\n",
       "      <td>20743.9</td>\n",
       "      <td>104560.0</td>\n",
       "      <td>0.60</td>\n",
       "    </tr>\n",
       "    <tr>\n",
       "      <th>2022-06-25</th>\n",
       "      <td>21489.9</td>\n",
       "      <td>21226.9</td>\n",
       "      <td>21553.4</td>\n",
       "      <td>20917.5</td>\n",
       "      <td>66630.0</td>\n",
       "      <td>1.24</td>\n",
       "    </tr>\n",
       "    <tr>\n",
       "      <th>2022-06-26</th>\n",
       "      <td>21043.5</td>\n",
       "      <td>21489.9</td>\n",
       "      <td>21837.4</td>\n",
       "      <td>20989.7</td>\n",
       "      <td>67210.0</td>\n",
       "      <td>-2.08</td>\n",
       "    </tr>\n",
       "    <tr>\n",
       "      <th>2022-06-27</th>\n",
       "      <td>20743.0</td>\n",
       "      <td>21037.7</td>\n",
       "      <td>21497.5</td>\n",
       "      <td>20599.8</td>\n",
       "      <td>83210.0</td>\n",
       "      <td>-1.43</td>\n",
       "    </tr>\n",
       "  </tbody>\n",
       "</table>\n",
       "<p>4363 rows × 6 columns</p>\n",
       "</div>"
      ],
      "text/plain": [
       "              Price     Open     High      Low      Vol.  Change %\n",
       "Date                                                              \n",
       "2010-07-18      0.1      0.0      0.1      0.1      80.0      0.00\n",
       "2010-07-19      0.1      0.1      0.1      0.1     570.0      0.00\n",
       "2010-07-20      0.1      0.1      0.1      0.1     260.0      0.00\n",
       "2010-07-21      0.1      0.1      0.1      0.1     580.0      0.00\n",
       "2010-07-22      0.1      0.1      0.1      0.1    2160.0      0.00\n",
       "...             ...      ...      ...      ...       ...       ...\n",
       "2022-06-23  21100.7  19967.3  21189.8  19907.5  110700.0      5.68\n",
       "2022-06-24  21226.9  21100.9  21488.7  20743.9  104560.0      0.60\n",
       "2022-06-25  21489.9  21226.9  21553.4  20917.5   66630.0      1.24\n",
       "2022-06-26  21043.5  21489.9  21837.4  20989.7   67210.0     -2.08\n",
       "2022-06-27  20743.0  21037.7  21497.5  20599.8   83210.0     -1.43\n",
       "\n",
       "[4363 rows x 6 columns]"
      ]
     },
     "execution_count": 3,
     "metadata": {},
     "output_type": "execute_result"
    }
   ],
   "source": [
    "df"
   ]
  },
  {
   "cell_type": "markdown",
   "id": "7193d8ff-00c4-4dc4-b934-f54b37120d8b",
   "metadata": {},
   "source": [
    "# Separating between Halving Dates\n",
    "\n",
    "I create new columns, each corresponding to the halvings."
   ]
  },
  {
   "cell_type": "code",
   "execution_count": 4,
   "id": "a9b73a11-048f-455b-a86c-e9cb1a07672b",
   "metadata": {},
   "outputs": [],
   "source": [
    "half1 = df[halvingdates[0]:halvingdates[1]][['Price']].rename({'Price':'x'}, axis=1)\n",
    "half2 = df[halvingdates[1]:halvingdates[2]][['Price']].rename({'Price':'y'}, axis=1)\n",
    "half3 = df[halvingdates[2]:][['Price']].rename({'Price':'z'}, axis=1)"
   ]
  },
  {
   "cell_type": "code",
   "execution_count": 5,
   "id": "e4038582-8352-4a2d-953a-f01499d29f8b",
   "metadata": {},
   "outputs": [],
   "source": [
    "half12 = pd.concat([half1.reset_index(drop=True), half2.reset_index(drop=True)], axis=1)\n",
    "half23 = pd.concat([half2.reset_index(drop=True), half3.reset_index(drop=True)], axis=1)"
   ]
  },
  {
   "cell_type": "markdown",
   "id": "ee7c3467-4133-41b2-9b91-a56ab7151404",
   "metadata": {},
   "source": [
    "## Persistent Homology"
   ]
  },
  {
   "cell_type": "code",
   "execution_count": 6,
   "id": "bacce97b-5ecc-40be-8956-f45baa3637e1",
   "metadata": {},
   "outputs": [],
   "source": [
    "def persnorm(df):\n",
    "    alpha_complex = gd.AlphaComplex(points = df.dropna().values)\n",
    "    st_alpha = alpha_complex.create_simplex_tree()\n",
    "    barcode = st_alpha.persistence()\n",
    "    persist = st_alpha.persistence_intervals_in_dimension(1)\n",
    "    p = 1\n",
    "    res = 0\n",
    "    for i in persist:\n",
    "        k = i.mean()\n",
    "        res += (2*k**(p+1)/(p+1))**(1/p)\n",
    "    return res\n",
    "\n",
    "def getph(df):\n",
    "    alpha_complex = gd.AlphaComplex(points = df.dropna().values)\n",
    "    st_alpha = alpha_complex.create_simplex_tree()\n",
    "    st_alpha.persistence()\n",
    "    return st_alpha.persistence_intervals_in_dimension(1)"
   ]
  },
  {
   "cell_type": "markdown",
   "id": "f835fb58-4690-4778-b5a0-cc0e365adbf9",
   "metadata": {},
   "source": [
    "## Rolling Window\n",
    "\n",
    "I will use a 7 day and 50 day rolling window and compute the persistence norm."
   ]
  },
  {
   "cell_type": "code",
   "execution_count": 7,
   "id": "4ac49a62-0ebb-4cae-a812-06cfe7482e9b",
   "metadata": {
    "tags": []
   },
   "outputs": [],
   "source": [
    "rolling50 = []\n",
    "for i in range(len(half12)-50):\n",
    "    rolling50.append(persnorm(half12[i:i+50]))\n",
    "rolling7 = []\n",
    "for i in range(len(half12)-7):\n",
    "    rolling7.append(persnorm(half12[i:i+7]))"
   ]
  },
  {
   "cell_type": "code",
   "execution_count": 8,
   "id": "7aace955-237f-4baa-ba2c-6631cbadbbd4",
   "metadata": {},
   "outputs": [],
   "source": [
    "rolling50 = np.array(rolling50)\n",
    "rolling7 = np.array(rolling7)"
   ]
  },
  {
   "cell_type": "code",
   "execution_count": 9,
   "id": "a2aafb61-86ed-4628-915c-aa6eac765034",
   "metadata": {},
   "outputs": [],
   "source": [
    "adjustedr50 = rolling50[rolling50!=0]"
   ]
  },
  {
   "cell_type": "code",
   "execution_count": 10,
   "id": "f45b77ac-5c99-4e71-b2a9-af11ba8f0d42",
   "metadata": {},
   "outputs": [
    {
     "data": {
      "text/plain": [
       "(973738527.2228297, 3390629584.8956394)"
      ]
     },
     "execution_count": 10,
     "metadata": {},
     "output_type": "execute_result"
    }
   ],
   "source": [
    "rolling50.mean(), rolling50.std()"
   ]
  },
  {
   "cell_type": "code",
   "execution_count": 11,
   "id": "5659d339-ece1-4365-903e-295683417926",
   "metadata": {},
   "outputs": [
    {
     "data": {
      "text/plain": [
       "(1006469234.0202353, 3442362430.5689774)"
      ]
     },
     "execution_count": 11,
     "metadata": {},
     "output_type": "execute_result"
    }
   ],
   "source": [
    "adjustedr50.mean(), adjustedr50.std()"
   ]
  },
  {
   "cell_type": "code",
   "execution_count": 12,
   "id": "0981969c-2dd5-44bb-ba94-b5c8754a3f9c",
   "metadata": {},
   "outputs": [
    {
     "data": {
      "text/plain": [
       "(16.13305415485132, 4.187320125486899)"
      ]
     },
     "execution_count": 12,
     "metadata": {},
     "output_type": "execute_result"
    }
   ],
   "source": [
    "np.log(adjustedr50).mean(), np.log(adjustedr50).std()"
   ]
  },
  {
   "cell_type": "markdown",
   "id": "9390b6b0-d2e5-449d-b2d7-798a5cc730a2",
   "metadata": {},
   "source": [
    "## Plots"
   ]
  },
  {
   "cell_type": "code",
   "execution_count": 13,
   "id": "90a397e2-05d6-4eab-972c-ea7e859e312b",
   "metadata": {},
   "outputs": [
    {
     "data": {
      "text/plain": [
       "<AxesSubplot:>"
      ]
     },
     "execution_count": 13,
     "metadata": {},
     "output_type": "execute_result"
    },
    {
     "data": {
      "image/png": "[encoded data removed]",
      "text/plain": [
       "<Figure size 432x288 with 1 Axes>"
      ]
     },
     "metadata": {
      "needs_background": "light"
     },
     "output_type": "display_data"
    }
   ],
   "source": [
    "pd.Series(adjustedr50).hist(bins=50)"
   ]
  },
  {
   "cell_type": "code",
   "execution_count": 14,
   "id": "c165360a-338d-4c59-8037-2ac70c1eaf98",
   "metadata": {},
   "outputs": [
    {
     "data": {
      "text/plain": [
       "<AxesSubplot:>"
      ]
     },
     "execution_count": 14,
     "metadata": {},
     "output_type": "execute_result"
    },
    {
     "data": {
      "image/png": "[encoded data removed]",
      "text/plain": [
       "<Figure size 432x288 with 1 Axes>"
      ]
     },
     "metadata": {
      "needs_background": "light"
     },
     "output_type": "display_data"
    }
   ],
   "source": [
    "np.log(pd.Series(adjustedr50)).hist(bins=50)"
   ]
  },
  {
   "cell_type": "markdown",
   "id": "a2a06313-c567-4bf5-9813-a40196751763",
   "metadata": {},
   "source": [
    "Find the peak days and lowest drop days from the halving date"
   ]
  },
  {
   "cell_type": "code",
   "execution_count": 15,
   "id": "2c377f16-2636-40d2-9974-86a0ee077112",
   "metadata": {},
   "outputs": [
    {
     "data": {
      "text/plain": [
       "<AxesSubplot:>"
      ]
     },
     "execution_count": 15,
     "metadata": {},
     "output_type": "execute_result"
    },
    {
     "data": {
      "image/png": "[encoded data removed]",
      "text/plain": [
       "<Figure size 432x288 with 1 Axes>"
      ]
     },
     "metadata": {
      "needs_background": "light"
     },
     "output_type": "display_data"
    }
   ],
   "source": [
    "pd.Series(rolling50).plot()"
   ]
  },
  {
   "cell_type": "code",
   "execution_count": 16,
   "id": "a76c44d8-8003-42a9-891e-d7c73aac0db1",
   "metadata": {},
   "outputs": [
    {
     "data": {
      "text/plain": [
       "<AxesSubplot:>"
      ]
     },
     "execution_count": 16,
     "metadata": {},
     "output_type": "execute_result"
    },
    {
     "data": {
      "image/png": "[encoded data removed]",
      "text/plain": [
       "<Figure size 432x288 with 1 Axes>"
      ]
     },
     "metadata": {
      "needs_background": "light"
     },
     "output_type": "display_data"
    }
   ],
   "source": [
    "pd.Series(rolling7).plot()"
   ]
  },
  {
   "cell_type": "code",
   "execution_count": 17,
   "id": "b1aa0e18-1350-4105-8731-64806914c2bf",
   "metadata": {},
   "outputs": [
    {
     "data": {
      "text/plain": [
       "<AxesSubplot:>"
      ]
     },
     "execution_count": 17,
     "metadata": {},
     "output_type": "execute_result"
    },
    {
     "data": {
      "image/png": "[encoded data removed]",
      "text/plain": [
       "<Figure size 432x288 with 1 Axes>"
      ]
     },
     "metadata": {
      "needs_background": "light"
     },
     "output_type": "display_data"
    }
   ],
   "source": [
    "pd.Series(rolling50[rolling50!=0]).plot()"
   ]
  },
  {
   "cell_type": "code",
   "execution_count": 18,
   "id": "a4040492-1b1b-4c85-aff7-0fa2a284cdb9",
   "metadata": {},
   "outputs": [
    {
     "data": {
      "text/plain": [
       "<AxesSubplot:>"
      ]
     },
     "execution_count": 18,
     "metadata": {},
     "output_type": "execute_result"
    },
    {
     "data": {
      "image/png": "[encoded data removed]",
      "text/plain": [
       "<Figure size 432x288 with 1 Axes>"
      ]
     },
     "metadata": {
      "needs_background": "light"
     },
     "output_type": "display_data"
    }
   ],
   "source": [
    "pd.Series(rolling7[rolling7!=0]).plot()"
   ]
  },
  {
   "cell_type": "code",
   "execution_count": 19,
   "id": "19153965-c0c4-4e50-85c9-026712547db5",
   "metadata": {},
   "outputs": [
    {
     "data": {
      "text/plain": [
       "<AxesSubplot:>"
      ]
     },
     "execution_count": 19,
     "metadata": {},
     "output_type": "execute_result"
    },
    {
     "data": {
      "image/png": "[encoded data removed]",
      "text/plain": [
       "<Figure size 432x288 with 1 Axes>"
      ]
     },
     "metadata": {
      "needs_background": "light"
     },
     "output_type": "display_data"
    }
   ],
   "source": [
    "np.log(pd.Series(adjustedr50)).plot()"
   ]
  },
  {
   "cell_type": "code",
   "execution_count": 20,
   "id": "847fe87e-e233-4f4f-919d-a69a0c98622e",
   "metadata": {},
   "outputs": [
    {
     "data": {
      "text/plain": [
       "<AxesSubplot:>"
      ]
     },
     "execution_count": 20,
     "metadata": {},
     "output_type": "execute_result"
    },
    {
     "data": {
      "image/png": "[encoded data removed]",
      "text/plain": [
       "<Figure size 432x288 with 1 Axes>"
      ]
     },
     "metadata": {
      "needs_background": "light"
     },
     "output_type": "display_data"
    }
   ],
   "source": [
    "np.log(pd.Series(rolling7[rolling7!=0])).plot()"
   ]
  },
  {
   "cell_type": "code",
   "execution_count": 21,
   "id": "0cca8378-1bff-4712-bc01-c2ed21cf7252",
   "metadata": {},
   "outputs": [
    {
     "data": {
      "text/plain": [
       "418"
      ]
     },
     "execution_count": 21,
     "metadata": {},
     "output_type": "execute_result"
    }
   ],
   "source": [
    "rolling50.argmax()"
   ]
  },
  {
   "cell_type": "code",
   "execution_count": 22,
   "id": "9b9e8e1b-9579-462d-9750-2824d27d7059",
   "metadata": {},
   "outputs": [
    {
     "data": {
      "text/plain": [
       "<AxesSubplot:>"
      ]
     },
     "execution_count": 22,
     "metadata": {},
     "output_type": "execute_result"
    },
    {
     "data": {
      "image/png": "[encoded data removed]",
      "text/plain": [
       "<Figure size 432x288 with 1 Axes>"
      ]
     },
     "metadata": {
      "needs_background": "light"
     },
     "output_type": "display_data"
    }
   ],
   "source": [
    "pd.Series(adjustedr50)[:448].plot()"
   ]
  },
  {
   "cell_type": "code",
   "execution_count": 23,
   "id": "a1cd7d11-0d38-4523-a0a5-e9949bec5bcc",
   "metadata": {},
   "outputs": [
    {
     "data": {
      "text/plain": [
       "<AxesSubplot:>"
      ]
     },
     "execution_count": 23,
     "metadata": {},
     "output_type": "execute_result"
    },
    {
     "data": {
      "image/png": "[encoded data removed]",
      "text/plain": [
       "<Figure size 432x288 with 1 Axes>"
      ]
     },
     "metadata": {
      "needs_background": "light"
     },
     "output_type": "display_data"
    }
   ],
   "source": [
    "pd.Series(adjustedr50)[:250].plot()"
   ]
  },
  {
   "cell_type": "code",
   "execution_count": null,
   "id": "675f4c1b-f305-4092-92a5-91eb5f1d9b65",
   "metadata": {},
   "outputs": [],
   "source": []
  }
 ],
 "metadata": {
  "kernelspec": {
   "display_name": "Python 3 (ipykernel)",
   "language": "python",
   "name": "python3"
  },
  "language_info": {
   "codemirror_mode": {
    "name": "ipython",
    "version": 3
   },
   "file_extension": ".py",
   "mimetype": "text/x-python",
   "name": "python",
   "nbconvert_exporter": "python",
   "pygments_lexer": "ipython3",
   "version": "3.9.13"
  }
 },
 "nbformat": 4,
 "nbformat_minor": 5
}
